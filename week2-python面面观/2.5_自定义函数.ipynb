{
 "cells": [
  {
   "cell_type": "markdown",
   "id": "5f893791",
   "metadata": {},
   "source": [
    "def function_name([arguments]):\n",
    "\"optional documentaion string\"\n",
    "function_suite"
   ]
  },
  {
   "cell_type": "code",
   "execution_count": null,
   "id": "0034f214",
   "metadata": {},
   "outputs": [],
   "source": [
    "from math import sqrt\n",
    "def isprime(x):\n",
    "        if x ==1 :\n",
    "                return False\n",
    "        k = int(sqrt(x))\n",
    "        for j in range(2, k+1):\n",
    "                if i % j == 0: \n",
    "                        return False\n",
    "        return True\n",
    "\n",
    "for i in range(2,101):\n",
    "        if isprime(i):\n",
    "                print(\"{} is prime\".format(i))"
   ]
  },
  {
   "cell_type": "markdown",
   "id": "8ec1f612",
   "metadata": {},
   "source": [
    "- 函数的参数可以有一个默认值，如果提供默认值，在函数定义中，默认参数一赋值语句的形式提供"
   ]
  },
  {
   "cell_type": "code",
   "execution_count": 9,
   "id": "87c54104",
   "metadata": {},
   "outputs": [
    {
     "name": "stdout",
     "output_type": "stream",
     "text": [
      "68\n"
     ]
    }
   ],
   "source": [
    "# 默认参数的值可以改变\n",
    "def f(x , y = True):\n",
    "        if y:\n",
    "                print(x)\n",
    "        else:\n",
    "                print(\"no print\")\n",
    "f(68)"
   ]
  },
  {
   "cell_type": "code",
   "execution_count": null,
   "id": "24386c1a",
   "metadata": {},
   "outputs": [],
   "source": [
    "# 默认参数一般需要放置在参数列表的最后\n",
    "def f(y = True, x):\n",
    "        if y:\n",
    "                print(x)\n",
    "        else:\n",
    "                print(\"no print\")"
   ]
  },
  {
   "cell_type": "markdown",
   "id": "3917a088",
   "metadata": {},
   "source": [
    "- 关键字参数是让调用者通过使用参数名区分参数。允许改变参数列表中的参数顺序"
   ]
  },
  {
   "cell_type": "code",
   "execution_count": null,
   "id": "e6333e63",
   "metadata": {},
   "outputs": [],
   "source": [
    "# 关键字参数\n",
    "def f(x,y):\n",
    "        if y:\n",
    "                print(x)\n",
    "        else:\n",
    "                print(\"no print\")\n",
    "\n",
    "f(24,False)\n",
    "f(y = True, x = 24, )\n",
    "f(y = True, 24)\n",
    "f(True, x = 24)\n"
   ]
  },
  {
   "cell_type": "markdown",
   "id": "4515d057",
   "metadata": {},
   "source": [
    "传递函数：函数可以像参数一样传递给另外一个函数\n",
    "- 相当于C++中的回调函数"
   ]
  },
  {
   "cell_type": "code",
   "execution_count": 21,
   "id": "0ad1ed8e",
   "metadata": {},
   "outputs": [
    {
     "name": "stdout",
     "output_type": "stream",
     "text": [
      "4\n"
     ]
    }
   ],
   "source": [
    "def addMe2Me(x):\n",
    "        return x + x\n",
    "def self(f):\n",
    "        print(f(2))\n",
    "self(addMe2Me)"
   ]
  },
  {
   "cell_type": "markdown",
   "id": "6492ab2b",
   "metadata": {},
   "source": [
    "lambdah函数"
   ]
  },
  {
   "cell_type": "code",
   "execution_count": 29,
   "id": "17919f7f",
   "metadata": {},
   "outputs": [
    {
     "data": {
      "text/plain": [
       "8"
      ]
     },
     "execution_count": 29,
     "metadata": {},
     "output_type": "execute_result"
    }
   ],
   "source": [
    "def my_add(x, y) : return x + y + 1\n",
    "\n",
    "lambda x , y : x + y\n",
    "\n",
    "my_add_1 = lambda x , y : x + y\n",
    "\n",
    "my_add_1(3 , 5)"
   ]
  }
 ],
 "metadata": {
  "kernelspec": {
   "display_name": "study-py",
   "language": "python",
   "name": "python3"
  },
  "language_info": {
   "codemirror_mode": {
    "name": "ipython",
    "version": 3
   },
   "file_extension": ".py",
   "mimetype": "text/x-python",
   "name": "python",
   "nbconvert_exporter": "python",
   "pygments_lexer": "ipython3",
   "version": "3.12.9"
  }
 },
 "nbformat": 4,
 "nbformat_minor": 5
}
