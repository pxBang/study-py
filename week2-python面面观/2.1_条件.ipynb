{
 "cells": [
  {
   "cell_type": "markdown",
   "id": "4293ebae",
   "metadata": {},
   "source": [
    "语法：\n",
    "if expression:\n",
    "        expr_true_suite"
   ]
  },
  {
   "cell_type": "markdown",
   "id": "9a0520b8",
   "metadata": {},
   "source": [
    "if expression:\n",
    "        expr_true_suite\n",
    "else:\n",
    "        expr_false_suite"
   ]
  },
  {
   "cell_type": "markdown",
   "id": "c24aeb0b",
   "metadata": {},
   "source": [
    "if expression:\n",
    "        expr_true_suite\n",
    "elif expression2 : \n",
    "        expr2_true_suite\n",
    "...\n",
    "elif expressionN :\n",
    "        exprN_true_suite\n",
    "else:\n",
    "        expr_false_suite\n",
    " "
   ]
  },
  {
   "cell_type": "code",
   "execution_count": 1,
   "id": "05198179",
   "metadata": {},
   "outputs": [
    {
     "name": "stdout",
     "output_type": "stream",
     "text": [
      "Too small!\n"
     ]
    }
   ],
   "source": [
    "from random import randint\n",
    "\n",
    "x = randint(0, 300)\n",
    "digit = int(input('Please guess the number between 0 and 300: '))\n",
    "if digit == x:\n",
    "    print('You are right!')\n",
    "elif digit > x:\n",
    "    print('Too big!')\n",
    "else:\n",
    "    print('Too small!')"
   ]
  },
  {
   "cell_type": "markdown",
   "id": "f6e9acbb",
   "metadata": {},
   "source": [
    "x if E else y"
   ]
  },
  {
   "cell_type": "code",
   "execution_count": 3,
   "id": "77459fd2",
   "metadata": {},
   "outputs": [
    {
     "name": "stdout",
     "output_type": "stream",
     "text": [
      "1\n"
     ]
    }
   ],
   "source": [
    "x = 5\n",
    "t = 1 if x >=0 else 0\n",
    "print(t)\n"
   ]
  }
 ],
 "metadata": {
  "kernelspec": {
   "display_name": "study-py",
   "language": "python",
   "name": "python3"
  },
  "language_info": {
   "codemirror_mode": {
    "name": "ipython",
    "version": 3
   },
   "file_extension": ".py",
   "mimetype": "text/x-python",
   "name": "python",
   "nbconvert_exporter": "python",
   "pygments_lexer": "ipython3",
   "version": "3.12.9"
  }
 },
 "nbformat": 4,
 "nbformat_minor": 5
}
