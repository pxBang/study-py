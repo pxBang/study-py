{
 "cells": [
  {
   "cell_type": "code",
   "execution_count": null,
   "id": "e3cc9a43",
   "metadata": {},
   "outputs": [
    {
     "name": "stdout",
     "output_type": "stream",
     "text": [
      "i=6,sum=15\n"
     ]
    }
   ],
   "source": [
    "sumA = 0\n",
    "i = 1\n",
    "while True:\n",
    "        sumA += i\n",
    "        i += 1\n",
    "        if sumA > 10:\n",
    "                break\n",
    "print('i={},sum={}'.format(i,sumA))"
   ]
  },
  {
   "cell_type": "code",
   "execution_count": null,
   "id": "abee4073",
   "metadata": {},
   "outputs": [],
   "source": [
    "help(format)"
   ]
  },
  {
   "cell_type": "code",
   "execution_count": 11,
   "id": "e597e434",
   "metadata": {},
   "outputs": [
    {
     "name": "stdout",
     "output_type": "stream",
     "text": [
      "2 3 5 7 11 13 17 19 23 29 31 37 41 43 47 53 59 61 67 71 73 79 83 89 97 "
     ]
    }
   ],
   "source": [
    "# 输出2-100之间的素数\n",
    "from math import sqrt\n",
    "j = 2\n",
    "while j <=100:\n",
    "        i = 2\n",
    "        k = sqrt(j)\n",
    "        while i <= k:\n",
    "                if j % i == 0:break\n",
    "                i = i+1\n",
    "        if i > k: print(j,end=' ')\n",
    "        j += 1"
   ]
  },
  {
   "cell_type": "code",
   "execution_count": 10,
   "id": "c5f7abcb",
   "metadata": {},
   "outputs": [
    {
     "name": "stdout",
     "output_type": "stream",
     "text": [
      "2 3 5 7 11 13 17 19 23 29 31 37 41 43 47 53 59 61 67 71 73 79 83 89 97 "
     ]
    }
   ],
   "source": [
    "# 输出2-100之间的素数\n",
    "from math import sqrt\n",
    "for i in range(2,101):\n",
    "        k = int(sqrt(i))\n",
    "        flag = True\n",
    "        for j in range(2,k+1):\n",
    "                if i % j == 0 : \n",
    "                        flag = False\n",
    "                        break\n",
    "        if flag: print(i,end=' ')"
   ]
  },
  {
   "cell_type": "code",
   "execution_count": 12,
   "id": "bca6dd78",
   "metadata": {},
   "outputs": [
    {
     "name": "stdout",
     "output_type": "stream",
     "text": [
      "i=2,sum=1\n",
      "i=4,sum=6\n",
      "i=5,sum=10\n",
      "i=6,sum=15\n"
     ]
    }
   ],
   "source": [
    "#continue\n",
    "sumA = 0\n",
    "i = 1\n",
    "while i <= 5:\n",
    "        sumA += i\n",
    "        i += 1\n",
    "        if i ==3:\n",
    "                continue\n",
    "        print('i={},sum={}'.format(i,sumA))\n",
    "\n"
   ]
  },
  {
   "cell_type": "code",
   "execution_count": 17,
   "id": "66d7c57e",
   "metadata": {},
   "outputs": [
    {
     "name": "stdout",
     "output_type": "stream",
     "text": [
      "8 is not a prime\n"
     ]
    }
   ],
   "source": [
    "#else和break搭配使用：如果break没有执行，则实行else的语句\n",
    "from math import sqrt\n",
    "num = int(input('please input a number:'))\n",
    "j = 2\n",
    "while j <= int(sqrt(num)):\n",
    "        if num % j == 0:\n",
    "                print('{} is not a prime'.format(num))\n",
    "                break\n",
    "        j += 1\n",
    "else : print('{} is a prime'.format(num))"
   ]
  }
 ],
 "metadata": {
  "kernelspec": {
   "display_name": "study-py",
   "language": "python",
   "name": "python3"
  },
  "language_info": {
   "codemirror_mode": {
    "name": "ipython",
    "version": 3
   },
   "file_extension": ".py",
   "mimetype": "text/x-python",
   "name": "python",
   "nbconvert_exporter": "python",
   "pygments_lexer": "ipython3",
   "version": "3.12.9"
  }
 },
 "nbformat": 4,
 "nbformat_minor": 5
}
