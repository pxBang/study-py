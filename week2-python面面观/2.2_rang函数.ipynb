{
 "cells": [
  {
   "cell_type": "markdown",
   "id": "52007360",
   "metadata": {},
   "source": [
    "range(start, end, step = 1)\n",
    "range(start, end)\n",
    "range(end)\n",
    "- 产生一系列整数，返回一个range对象"
   ]
  },
  {
   "cell_type": "code",
   "execution_count": 1,
   "id": "e6627270",
   "metadata": {},
   "outputs": [
    {
     "data": {
      "text/plain": [
       "[3, 5, 7, 9]"
      ]
     },
     "execution_count": 1,
     "metadata": {},
     "output_type": "execute_result"
    }
   ],
   "source": [
    "list(range(3,11,2))"
   ]
  },
  {
   "cell_type": "code",
   "execution_count": 2,
   "id": "85555e4c",
   "metadata": {},
   "outputs": [
    {
     "data": {
      "text/plain": [
       "[3, 4, 5, 6, 7, 8, 9, 10]"
      ]
     },
     "execution_count": 2,
     "metadata": {},
     "output_type": "execute_result"
    }
   ],
   "source": [
    "list(range(3,11))"
   ]
  },
  {
   "cell_type": "code",
   "execution_count": 3,
   "id": "60b68099",
   "metadata": {},
   "outputs": [
    {
     "data": {
      "text/plain": [
       "[0, 1, 2, 3, 4, 5, 6, 7, 8, 9, 10]"
      ]
     },
     "execution_count": 3,
     "metadata": {},
     "output_type": "execute_result"
    }
   ],
   "source": [
    "list(range(11))"
   ]
  },
  {
   "cell_type": "markdown",
   "id": "8f7f7177",
   "metadata": {},
   "source": [
    "![](./1.png)"
   ]
  }
 ],
 "metadata": {
  "kernelspec": {
   "display_name": "study-py",
   "language": "python",
   "name": "python3"
  },
  "language_info": {
   "codemirror_mode": {
    "name": "ipython",
    "version": 3
   },
   "file_extension": ".py",
   "mimetype": "text/x-python",
   "name": "python",
   "nbconvert_exporter": "python",
   "pygments_lexer": "ipython3",
   "version": "3.12.9"
  }
 },
 "nbformat": 4,
 "nbformat_minor": 5
}
