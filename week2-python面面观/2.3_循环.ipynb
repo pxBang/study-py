{
 "cells": [
  {
   "cell_type": "markdown",
   "id": "356281f6",
   "metadata": {},
   "source": [
    "while expression\n",
    "        suite_to_repeat"
   ]
  },
  {
   "cell_type": "code",
   "execution_count": 2,
   "id": "45f05da8",
   "metadata": {},
   "outputs": [
    {
     "name": "stdout",
     "output_type": "stream",
     "text": [
      "45\n"
     ]
    }
   ],
   "source": [
    "sumA = 0\n",
    "j = 1\n",
    "while(j < 10):\n",
    "        sumA +=j\n",
    "        j += 1\n",
    "print(sumA)"
   ]
  },
  {
   "cell_type": "markdown",
   "id": "7a719d1f",
   "metadata": {},
   "source": [
    "for iter_var in iterable_object:\n",
    "        suite_to_repeat\n",
    "\n",
    "## 可以明确循环的次数\n",
    "- 遍历一个数据集内的成员\n",
    "- 在列表解析中使用\n",
    "- 生成器表达式中使用\n",
    "\n",
    "## iterable_object\n",
    "- String\n",
    "- List\n",
    "- Tuple\n",
    "- Dictionary\n",
    "- File"
   ]
  },
  {
   "cell_type": "markdown",
   "id": "4169d343",
   "metadata": {},
   "source": [
    "- range()返回的是一个 iterable_object\n",
    "- 字符串也是一个iterable_object"
   ]
  },
  {
   "cell_type": "code",
   "execution_count": 4,
   "id": "2db2f363",
   "metadata": {},
   "outputs": [
    {
     "name": "stdout",
     "output_type": "stream",
     "text": [
      "3 5 7 9 "
     ]
    }
   ],
   "source": [
    "for i in range(3,11,2):\n",
    "        print(i, end=' ')"
   ]
  },
  {
   "cell_type": "code",
   "execution_count": 6,
   "id": "a1eba715",
   "metadata": {},
   "outputs": [
    {
     "name": "stdout",
     "output_type": "stream",
     "text": [
      "P y t h o n P y t h o n "
     ]
    }
   ],
   "source": [
    "s = 'Python'\n",
    "for c in s:\n",
    "        print(c,end=' ')\n",
    "for i in range(len(s)):\n",
    "        print(s[i],end=' ')\n"
   ]
  },
  {
   "cell_type": "markdown",
   "id": "31b50f19",
   "metadata": {},
   "source": [
    "- for循环实际是一个语法糖，听起来很甜😊\n",
    "- 简单来说，语法糖就是将一些复杂的语法机制隐藏起来，用户只需要用简单的方式就可以表示这些功能"
   ]
  },
  {
   "cell_type": "code",
   "execution_count": null,
   "id": "a34fa39e",
   "metadata": {},
   "outputs": [
    {
     "ename": "StopIteration",
     "evalue": "",
     "output_type": "error",
     "traceback": [
      "\u001b[31m---------------------------------------------------------------------------\u001b[39m",
      "\u001b[31mStopIteration\u001b[39m                             Traceback (most recent call last)",
      "\u001b[36mCell\u001b[39m\u001b[36m \u001b[39m\u001b[32mIn[11]\u001b[39m\u001b[32m, line 6\u001b[39m\n\u001b[32m      4\u001b[39m \u001b[38;5;28mnext\u001b[39m(x)\n\u001b[32m      5\u001b[39m \u001b[38;5;28mnext\u001b[39m(x)\n\u001b[32m----> \u001b[39m\u001b[32m6\u001b[39m \u001b[38;5;28;43mnext\u001b[39;49m\u001b[43m(\u001b[49m\u001b[43mx\u001b[49m\u001b[43m)\u001b[49m\n",
      "\u001b[31mStopIteration\u001b[39m: "
     ]
    }
   ],
   "source": [
    "x = iter(range(3, 11, 2))\n",
    "next(x)\n",
    "next(x)\n",
    "next(x)\n",
    "next(x)\n",
    "next(x)\n"
   ]
  },
  {
   "cell_type": "code",
   "execution_count": 14,
   "id": "a4a14c0e",
   "metadata": {},
   "outputs": [
    {
     "name": "stdout",
     "output_type": "stream",
     "text": [
      "False\n",
      "True\n",
      "True\n"
     ]
    }
   ],
   "source": [
    "from collections.abc import Iterator, Iterable\n",
    "print(isinstance(range(10), Iterator))\n",
    "print(isinstance(iter(range(10)), Iterator))\n",
    "print(isinstance(range(10), Iterable))"
   ]
  },
  {
   "cell_type": "code",
   "execution_count": null,
   "id": "a2f867c7",
   "metadata": {},
   "outputs": [],
   "source": [
    "from random import randint\n",
    "\n",
    "x = randint(0, 100)\n",
    "for count in range(5):\n",
    "        digit = int(input('Please guess the number between 0 and 100: '))\n",
    "        if digit == x:\n",
    "                print('You are right!')\n",
    "                break\n",
    "        elif digit > x:\n",
    "                print('Too big!')\n",
    "        else:\n",
    "                print('Too small!')"
   ]
  },
  {
   "cell_type": "code",
   "execution_count": 18,
   "id": "1db504fa",
   "metadata": {},
   "outputs": [
    {
     "name": "stdout",
     "output_type": "stream",
     "text": [
      "result =  1\n"
     ]
    }
   ],
   "source": [
    "x = eval(input('x= '))\n",
    "y = eval(input('y= '))\n",
    "if x < y:\n",
    "        x, y = y ,x\n",
    "while x % y != 0:\n",
    "        r = x % y\n",
    "        x = y\n",
    "        y = r \n",
    "print('result = ', y)"
   ]
  },
  {
   "cell_type": "code",
   "execution_count": 19,
   "id": "22af11d2",
   "metadata": {},
   "outputs": [
    {
     "name": "stdout",
     "output_type": "stream",
     "text": [
      "541\n"
     ]
    }
   ],
   "source": [
    "# 一元人民币兑换成1分、2分和5分硬币，共有多少种不同的兑换方法\n",
    "i, j , k = 0 , 0 , 0 # 5分硬币个数，2分硬币个数，1分硬币个数\n",
    "count = 0\n",
    "for i in range(21):\n",
    "        for j in range(51):\n",
    "                for k in range(101):\n",
    "                        if 5 * i + 2 * j + k == 100:\n",
    "                                count += 1\n",
    "\n",
    "print(count)\n",
    "\n"
   ]
  }
 ],
 "metadata": {
  "kernelspec": {
   "display_name": "study-py",
   "language": "python",
   "name": "python3"
  },
  "language_info": {
   "codemirror_mode": {
    "name": "ipython",
    "version": 3
   },
   "file_extension": ".py",
   "mimetype": "text/x-python",
   "name": "python",
   "nbconvert_exporter": "python",
   "pygments_lexer": "ipython3",
   "version": "3.12.9"
  }
 },
 "nbformat": 4,
 "nbformat_minor": 5
}
