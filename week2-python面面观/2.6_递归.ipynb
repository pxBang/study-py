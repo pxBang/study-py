{
 "cells": [
  {
   "cell_type": "markdown",
   "id": "8183558c",
   "metadata": {},
   "source": [
    "- 递归必须要有边界条件，即停止递归的条件\n",
    "- 递归的代码更简洁，更符合自然逻辑，更容易立即"
   ]
  },
  {
   "cell_type": "code",
   "execution_count": 4,
   "id": "4a27043b",
   "metadata": {},
   "outputs": [
    {
     "name": "stdout",
     "output_type": "stream",
     "text": [
      "5\n"
     ]
    }
   ],
   "source": [
    "# the nth Fibonacci number\n",
    "def fib(n):\n",
    "        a, b = 0, 1\n",
    "        count = 1\n",
    "        while count < n:\n",
    "                a,b = b , a + b\n",
    "                count = count + 1\n",
    "        print(a)\n",
    "\n",
    "fib(6)"
   ]
  },
  {
   "cell_type": "code",
   "execution_count": 8,
   "id": "6b22db42",
   "metadata": {},
   "outputs": [
    {
     "data": {
      "text/plain": [
       "5"
      ]
     },
     "execution_count": 8,
     "metadata": {},
     "output_type": "execute_result"
    }
   ],
   "source": [
    "# the nth Fibonacci number\n",
    "def fib(n):\n",
    "        if n == 0 or n == 1:\n",
    "                return n\n",
    "        else:\n",
    "                return fib(n-1) + fib(n-2)\n",
    "\n",
    "\n",
    "fib(5)"
   ]
  },
  {
   "cell_type": "markdown",
   "id": "8af97cfb",
   "metadata": {},
   "source": [
    "![](2.png)\n",
    "![](3.png)"
   ]
  },
  {
   "cell_type": "code",
   "execution_count": null,
   "id": "d05dca48",
   "metadata": {},
   "outputs": [],
   "source": [
    "def hanoi(a,b,c,n):\n",
    "        if n == 1:\n",
    "                print(a,'->',c)\n",
    "        else:\n",
    "                hanoi(a,c,b,n-1)\n",
    "                print(a,'->',c)\n",
    "                hanoi(b,a,c,n-1)\n",
    "\n",
    "hanoi('a','b','c',4)\n"
   ]
  },
  {
   "cell_type": "code",
   "execution_count": 10,
   "id": "d000f7cf",
   "metadata": {},
   "outputs": [
    {
     "name": "stdout",
     "output_type": "stream",
     "text": [
      "1 1 1 1 1 1 0 "
     ]
    }
   ],
   "source": [
    "def foo(num, base):\n",
    "        if num >= base:\n",
    "                foo(num // base, base)\n",
    "        print(num % base, end = ' ')\n",
    "\n",
    "foo(126,2)"
   ]
  }
 ],
 "metadata": {
  "kernelspec": {
   "display_name": "study-py",
   "language": "python",
   "name": "python3"
  },
  "language_info": {
   "codemirror_mode": {
    "name": "ipython",
    "version": 3
   },
   "file_extension": ".py",
   "mimetype": "text/x-python",
   "name": "python",
   "nbconvert_exporter": "python",
   "pygments_lexer": "ipython3",
   "version": "3.12.9"
  }
 },
 "nbformat": 4,
 "nbformat_minor": 5
}
