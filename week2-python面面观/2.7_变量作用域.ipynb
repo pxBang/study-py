{
 "cells": [
  {
   "cell_type": "markdown",
   "id": "202708f1",
   "metadata": {},
   "source": [
    "- 全局变量：在程序代码主题部分的是全局变量\n",
    "- 局部变量：在函数中的变量是局部变量"
   ]
  },
  {
   "cell_type": "code",
   "execution_count": 2,
   "id": "bdcf436c",
   "metadata": {},
   "outputs": [
    {
     "data": {
      "text/plain": [
       "'helloworld'"
      ]
     },
     "execution_count": 2,
     "metadata": {},
     "output_type": "execute_result"
    }
   ],
   "source": [
    "global_str = 'hello'\n",
    "def foo():\n",
    "        local_str = 'world'\n",
    "        return global_str + local_str\n",
    "\n",
    "foo()"
   ]
  },
  {
   "cell_type": "markdown",
   "id": "dc73e7dc",
   "metadata": {},
   "source": [
    "- 全局变量和局部变量用同一个名字：内层屏蔽外层"
   ]
  },
  {
   "cell_type": "code",
   "execution_count": 3,
   "id": "2f9c334f",
   "metadata": {},
   "outputs": [
    {
     "name": "stdout",
     "output_type": "stream",
     "text": [
      "25\n"
     ]
    }
   ],
   "source": [
    "a = 3\n",
    "def f():\n",
    "        a = 5\n",
    "        print(a ** 2)\n",
    "\n",
    "f()"
   ]
  },
  {
   "cell_type": "markdown",
   "id": "a3d93ac8",
   "metadata": {},
   "source": [
    "改变全局变量的值"
   ]
  },
  {
   "cell_type": "code",
   "execution_count": null,
   "id": "bc0c4812",
   "metadata": {},
   "outputs": [],
   "source": [
    "def f():\n",
    "        print(a)\n",
    "        a = 5\n",
    "        print(a)\n",
    "a = 3 \n",
    "f()"
   ]
  },
  {
   "cell_type": "markdown",
   "id": "b475f9e5",
   "metadata": {},
   "source": [
    "- global语句强调全局变量"
   ]
  },
  {
   "cell_type": "code",
   "execution_count": 6,
   "id": "e745ca30",
   "metadata": {},
   "outputs": [
    {
     "name": "stdout",
     "output_type": "stream",
     "text": [
      "3\n",
      "5\n",
      "5\n"
     ]
    }
   ],
   "source": [
    "def f():\n",
    "        global a\n",
    "        print(a)\n",
    "        a = 5\n",
    "        print(a)\n",
    "\n",
    "a = 3\n",
    "f()\n",
    "print(a)"
   ]
  }
 ],
 "metadata": {
  "kernelspec": {
   "display_name": "study-py",
   "language": "python",
   "name": "python3"
  },
  "language_info": {
   "codemirror_mode": {
    "name": "ipython",
    "version": 3
   },
   "file_extension": ".py",
   "mimetype": "text/x-python",
   "name": "python",
   "nbconvert_exporter": "python",
   "pygments_lexer": "ipython3",
   "version": "3.12.9"
  }
 },
 "nbformat": 4,
 "nbformat_minor": 5
}
