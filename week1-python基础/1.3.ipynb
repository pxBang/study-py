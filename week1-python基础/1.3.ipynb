{
 "cells": [
  {
   "cell_type": "code",
   "execution_count": 5,
   "id": "023df99c",
   "metadata": {},
   "outputs": [
    {
     "data": {
      "text/plain": [
       "4396692304"
      ]
     },
     "execution_count": 5,
     "metadata": {},
     "output_type": "execute_result"
    }
   ],
   "source": [
    "x = 3.5\n",
    "y = x\n",
    "z = 3.5\n",
    "\n",
    "z is x\n",
    "\n",
    "id(x)\n",
    "id(y)\n",
    "id(z)\n"
   ]
  },
  {
   "cell_type": "code",
   "execution_count": 6,
   "id": "b8a5cbb5",
   "metadata": {},
   "outputs": [
    {
     "name": "stdout",
     "output_type": "stream",
     "text": [
      "1 2\n",
      "2 1\n"
     ]
    }
   ],
   "source": [
    "x = 1\n",
    "y = 2\n",
    "print(x,y)\n",
    "x,y = y, x\n",
    "print(x,y)\n"
   ]
  }
 ],
 "metadata": {
  "kernelspec": {
   "display_name": "study-py",
   "language": "python",
   "name": "python3"
  },
  "language_info": {
   "codemirror_mode": {
    "name": "ipython",
    "version": 3
   },
   "file_extension": ".py",
   "mimetype": "text/x-python",
   "name": "python",
   "nbconvert_exporter": "python",
   "pygments_lexer": "ipython3",
   "version": "3.12.9"
  }
 },
 "nbformat": 4,
 "nbformat_minor": 5
}
