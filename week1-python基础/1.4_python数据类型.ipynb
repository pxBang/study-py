{
 "cells": [
  {
   "cell_type": "code",
   "execution_count": 4,
   "id": "a0229959",
   "metadata": {},
   "outputs": [
    {
     "name": "stdout",
     "output_type": "stream",
     "text": [
      "2.4\n",
      "5.6\n",
      "(2.4-5.6j)\n"
     ]
    }
   ],
   "source": [
    "x = 2.4 + 5.6j\n",
    "type(x)\n",
    "print(x.real)\n",
    "print(x.imag)\n",
    "print(x.conjugate())"
   ]
  },
  {
   "cell_type": "code",
   "execution_count": 5,
   "id": "f9a394e7",
   "metadata": {},
   "outputs": [
    {
     "name": "stdout",
     "output_type": "stream",
     "text": [
      "Hello''asd'' World\n"
     ]
    }
   ],
   "source": [
    "myString = '''Hello''asd'' World'''\n",
    "print(myString)"
   ]
  },
  {
   "cell_type": "code",
   "execution_count": 13,
   "id": "2064ef8e",
   "metadata": {},
   "outputs": [
    {
     "name": "stdout",
     "output_type": "stream",
     "text": [
      "pxb\n"
     ]
    },
    {
     "data": {
      "text/plain": [
       "str"
      ]
     },
     "execution_count": 13,
     "metadata": {},
     "output_type": "execute_result"
    }
   ],
   "source": [
    "d = {'sine':'sin', 'cosine':'cos', 'PI':3.14159, 23:'pxb'}\n",
    "print(d[23])\n",
    "type(d[23])"
   ]
  }
 ],
 "metadata": {
  "kernelspec": {
   "display_name": "study-py",
   "language": "python",
   "name": "python3"
  },
  "language_info": {
   "codemirror_mode": {
    "name": "ipython",
    "version": 3
   },
   "file_extension": ".py",
   "mimetype": "text/x-python",
   "name": "python",
   "nbconvert_exporter": "python",
   "pygments_lexer": "ipython3",
   "version": "3.12.9"
  }
 },
 "nbformat": 4,
 "nbformat_minor": 5
}
