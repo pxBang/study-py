{
 "cells": [
  {
   "cell_type": "code",
   "execution_count": 1,
   "id": "8cd694ca",
   "metadata": {},
   "outputs": [
    {
     "data": {
      "text/plain": [
       "9"
      ]
     },
     "execution_count": 1,
     "metadata": {},
     "output_type": "execute_result"
    }
   ],
   "source": [
    "(-3) ** 2"
   ]
  },
  {
   "cell_type": "code",
   "execution_count": null,
   "id": "1fe09393",
   "metadata": {},
   "outputs": [
    {
     "data": {
      "text/plain": [
       "False"
      ]
     },
     "execution_count": 7,
     "metadata": {},
     "output_type": "execute_result"
    }
   ],
   "source": [
    "3 < 4 < 7\n",
    "4 > 3 == 3\n",
    "4 < 3 < 5 != 2 < 7"
   ]
  },
  {
   "cell_type": "code",
   "execution_count": 10,
   "id": "9bdb9ef8",
   "metadata": {},
   "outputs": [
    {
     "data": {
      "text/plain": [
       "True"
      ]
     },
     "execution_count": 10,
     "metadata": {},
     "output_type": "execute_result"
    }
   ],
   "source": [
    "x, y = 3.14159, -1024\n",
    "x < 5 and y > 2\n",
    "not x is y"
   ]
  },
  {
   "cell_type": "code",
   "execution_count": 17,
   "id": "f57901d9",
   "metadata": {},
   "outputs": [],
   "source": [
    "f = open(r'../\\1.txt', 'w')\n"
   ]
  },
  {
   "cell_type": "code",
   "execution_count": 18,
   "id": "ed178bec",
   "metadata": {},
   "outputs": [
    {
     "data": {
      "text/plain": [
       "True"
      ]
     },
     "execution_count": 18,
     "metadata": {},
     "output_type": "execute_result"
    }
   ],
   "source": [
    "3 < 2 and 2 < 1 or 5 > 4"
   ]
  }
 ],
 "metadata": {
  "kernelspec": {
   "display_name": "study-py",
   "language": "python",
   "name": "python3"
  },
  "language_info": {
   "codemirror_mode": {
    "name": "ipython",
    "version": 3
   },
   "file_extension": ".py",
   "mimetype": "text/x-python",
   "name": "python",
   "nbconvert_exporter": "python",
   "pygments_lexer": "ipython3",
   "version": "3.12.9"
  }
 },
 "nbformat": 4,
 "nbformat_minor": 5
}
